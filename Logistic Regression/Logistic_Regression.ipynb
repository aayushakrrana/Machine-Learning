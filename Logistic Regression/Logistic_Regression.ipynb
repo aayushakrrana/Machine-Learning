{
  "nbformat": 4,
  "nbformat_minor": 0,
  "metadata": {
    "colab": {
      "name": "Logistic Regression.ipynb",
      "provenance": [],
      "collapsed_sections": []
    },
    "kernelspec": {
      "name": "python3",
      "display_name": "Python 3"
    }
  },
  "cells": [
    {
      "cell_type": "markdown",
      "metadata": {
        "id": "Y48R6VMl1T6O",
        "colab_type": "text"
      },
      "source": [
        "**Logistic Regression**"
      ]
    },
    {
      "cell_type": "markdown",
      "metadata": {
        "id": "x8Xu_bvG2Lga",
        "colab_type": "text"
      },
      "source": [
        "*Importing Libraries*\n"
      ]
    },
    {
      "cell_type": "code",
      "metadata": {
        "id": "-EtqfPkL2SVg",
        "colab_type": "code",
        "colab": {}
      },
      "source": [
        "pip install numpy"
      ],
      "execution_count": null,
      "outputs": []
    },
    {
      "cell_type": "code",
      "metadata": {
        "id": "6DDWaquV7keJ",
        "colab_type": "code",
        "colab": {}
      },
      "source": [
        "pip install sklearn"
      ],
      "execution_count": null,
      "outputs": []
    },
    {
      "cell_type": "code",
      "metadata": {
        "id": "9VueMh9l2cmi",
        "colab_type": "code",
        "colab": {}
      },
      "source": [
        "pip install pandas"
      ],
      "execution_count": null,
      "outputs": []
    },
    {
      "cell_type": "code",
      "metadata": {
        "id": "bjEb6eQQ2kfP",
        "colab_type": "code",
        "colab": {}
      },
      "source": [
        "import numpy as np\n",
        "import matplotlib.pyplot as plt\n",
        "import pandas as pd"
      ],
      "execution_count": 3,
      "outputs": []
    },
    {
      "cell_type": "markdown",
      "metadata": {
        "id": "ESUtpmH42uWc",
        "colab_type": "text"
      },
      "source": [
        "*importing the dataset*"
      ]
    },
    {
      "cell_type": "code",
      "metadata": {
        "id": "KPGllvON2046",
        "colab_type": "code",
        "colab": {}
      },
      "source": [
        "dataset = pd.read_csv('drive//My Drive//Collab//Logistic regression//Social_Network_Ads.csv')"
      ],
      "execution_count": 6,
      "outputs": []
    },
    {
      "cell_type": "code",
      "metadata": {
        "id": "CW2w_p5h6HHL",
        "colab_type": "code",
        "colab": {}
      },
      "source": [
        "X = dataset.iloc[:,[2,3]].values\n",
        "Y = dataset.iloc[:,4].values"
      ],
      "execution_count": 7,
      "outputs": []
    },
    {
      "cell_type": "markdown",
      "metadata": {
        "id": "pELTIEZP6sfD",
        "colab_type": "text"
      },
      "source": [
        "*splitting the dataset into training set and testing set*"
      ]
    },
    {
      "cell_type": "code",
      "metadata": {
        "id": "pq4_jd1X6vAa",
        "colab_type": "code",
        "colab": {}
      },
      "source": [
        "from sklearn.model_selection import train_test_split\n",
        "X_train , X_test, Y_train, Y_test = train_test_split(X,Y,test_size = 0.25, random_state = 0) "
      ],
      "execution_count": 12,
      "outputs": []
    },
    {
      "cell_type": "markdown",
      "metadata": {
        "id": "H4Ecu5iF7gWZ",
        "colab_type": "text"
      },
      "source": [
        "*feature scaling*"
      ]
    },
    {
      "cell_type": "code",
      "metadata": {
        "id": "naQptQIx7_HK",
        "colab_type": "code",
        "colab": {}
      },
      "source": [
        "from sklearn.preprocessing import StandardScaler\n",
        "sc = StandardScaler()\n",
        "X_train = sc.fit_transform(X_train)\n",
        "X_test = sc.fit_transform(X_test)"
      ],
      "execution_count": 13,
      "outputs": []
    },
    {
      "cell_type": "markdown",
      "metadata": {
        "id": "sHQYP56f8Xo3",
        "colab_type": "text"
      },
      "source": [
        "*fitting logistic regression*"
      ]
    },
    {
      "cell_type": "code",
      "metadata": {
        "id": "Mg5fJ-Qb8cZC",
        "colab_type": "code",
        "colab": {
          "base_uri": "https://localhost:8080/",
          "height": 102
        },
        "outputId": "4b830708-1071-4739-a3a5-15b8eb18bdea"
      },
      "source": [
        "from sklearn.linear_model import LogisticRegression\n",
        "classifier = LogisticRegression(random_state = 0)\n",
        "classifier.fit(X_train, Y_train)"
      ],
      "execution_count": 14,
      "outputs": [
        {
          "output_type": "execute_result",
          "data": {
            "text/plain": [
              "LogisticRegression(C=1.0, class_weight=None, dual=False, fit_intercept=True,\n",
              "                   intercept_scaling=1, l1_ratio=None, max_iter=100,\n",
              "                   multi_class='auto', n_jobs=None, penalty='l2',\n",
              "                   random_state=0, solver='lbfgs', tol=0.0001, verbose=0,\n",
              "                   warm_start=False)"
            ]
          },
          "metadata": {
            "tags": []
          },
          "execution_count": 14
        }
      ]
    },
    {
      "cell_type": "markdown",
      "metadata": {
        "id": "5FsXpy6n9IbQ",
        "colab_type": "text"
      },
      "source": [
        "*predicting the test set result*"
      ]
    },
    {
      "cell_type": "code",
      "metadata": {
        "id": "pK2fQEEa86Ns",
        "colab_type": "code",
        "colab": {}
      },
      "source": [
        "Y_pred = classifier.predict(X_test)"
      ],
      "execution_count": 15,
      "outputs": []
    },
    {
      "cell_type": "markdown",
      "metadata": {
        "id": "1mEE-sfU9Oad",
        "colab_type": "text"
      },
      "source": [
        "*making confusion matrix*"
      ]
    },
    {
      "cell_type": "code",
      "metadata": {
        "id": "YaNBTqZ69THz",
        "colab_type": "code",
        "colab": {}
      },
      "source": [
        "from sklearn.metrics import confusion_matrix\n",
        "cm = confusion_matrix(Y_test, Y_pred)"
      ],
      "execution_count": 16,
      "outputs": []
    },
    {
      "cell_type": "code",
      "metadata": {
        "id": "9tRYr8vh9iqC",
        "colab_type": "code",
        "colab": {
          "base_uri": "https://localhost:8080/",
          "height": 51
        },
        "outputId": "92809eb8-c899-49eb-c368-7b7b22c3fba2"
      },
      "source": [
        "cm"
      ],
      "execution_count": 17,
      "outputs": [
        {
          "output_type": "execute_result",
          "data": {
            "text/plain": [
              "array([[63,  5],\n",
              "       [ 8, 24]])"
            ]
          },
          "metadata": {
            "tags": []
          },
          "execution_count": 17
        }
      ]
    },
    {
      "cell_type": "markdown",
      "metadata": {
        "id": "ZrdgWdMq9kP5",
        "colab_type": "text"
      },
      "source": [
        "*Visualizing training set results*"
      ]
    },
    {
      "cell_type": "code",
      "metadata": {
        "id": "yc8uiw6U9t2O",
        "colab_type": "code",
        "colab": {
          "base_uri": "https://localhost:8080/",
          "height": 442
        },
        "outputId": "0065566d-2328-4f0c-ef27-dc5ef40dd84c"
      },
      "source": [
        "from matplotlib.colors import ListedColormap\n",
        "X_set, Y_set = X_train,Y_train\n",
        "X1, X2 = np.meshgrid(np.arange(start = X_set[:, 0].min() - 1, stop = X_set[:, 0].max() + 1, step = 0.01),\n",
        "                     np.arange(start = X_set[:, 1].min() - 1, stop = X_set[:, 1].max() + 1, step = 0.01))\n",
        "print(X1,X2)"
      ],
      "execution_count": 19,
      "outputs": [
        {
          "output_type": "stream",
          "text": [
            "[[-2.99318916 -2.98318916 -2.97318916 ...  3.13681084  3.14681084\n",
            "   3.15681084]\n",
            " [-2.99318916 -2.98318916 -2.97318916 ...  3.13681084  3.14681084\n",
            "   3.15681084]\n",
            " [-2.99318916 -2.98318916 -2.97318916 ...  3.13681084  3.14681084\n",
            "   3.15681084]\n",
            " ...\n",
            " [-2.99318916 -2.98318916 -2.97318916 ...  3.13681084  3.14681084\n",
            "   3.15681084]\n",
            " [-2.99318916 -2.98318916 -2.97318916 ...  3.13681084  3.14681084\n",
            "   3.15681084]\n",
            " [-2.99318916 -2.98318916 -2.97318916 ...  3.13681084  3.14681084\n",
            "   3.15681084]] [[-2.58254245 -2.58254245 -2.58254245 ... -2.58254245 -2.58254245\n",
            "  -2.58254245]\n",
            " [-2.57254245 -2.57254245 -2.57254245 ... -2.57254245 -2.57254245\n",
            "  -2.57254245]\n",
            " [-2.56254245 -2.56254245 -2.56254245 ... -2.56254245 -2.56254245\n",
            "  -2.56254245]\n",
            " ...\n",
            " [ 3.30745755  3.30745755  3.30745755 ...  3.30745755  3.30745755\n",
            "   3.30745755]\n",
            " [ 3.31745755  3.31745755  3.31745755 ...  3.31745755  3.31745755\n",
            "   3.31745755]\n",
            " [ 3.32745755  3.32745755  3.32745755 ...  3.32745755  3.32745755\n",
            "   3.32745755]]\n"
          ],
          "name": "stdout"
        }
      ]
    },
    {
      "cell_type": "code",
      "metadata": {
        "id": "W_DBlxWn_Pxl",
        "colab_type": "code",
        "colab": {
          "base_uri": "https://localhost:8080/",
          "height": 627
        },
        "outputId": "7e449a25-844c-491c-9d07-7456fc22bb13"
      },
      "source": [
        "plt.contourf(X1,X2, classifier.predict(np.array([X1.ravel(), X2.ravel()]).T).reshape(X1.shape),alpha =0.75, cmap = ListedColormap(('red','green')))\n",
        "plt.xlim(X1.min(), X1.max())\n",
        "plt.ylim(X2.min(),X2.max())\n",
        "for i,j in enumerate(np.unique(Y_set)):\n",
        "  plt.scatter(X_set[Y_set == j,0], X_set[Y_set == j,1], c= ListedColormap(('red','green'))(i),label=j)\n",
        "  plt.title('Logistic Regression (Tranning) ')\n",
        "  plt.xlabel('Age')\n",
        "  plt.ylabel('Estimated Salary')\n",
        "  plt.legend()\n",
        "  plt.show()"
      ],
      "execution_count": 22,
      "outputs": [
        {
          "output_type": "stream",
          "text": [
            "*c* argument looks like a single numeric RGB or RGBA sequence, which should be avoided as value-mapping will have precedence in case its length matches with *x* & *y*.  Please use the *color* keyword-argument or provide a 2-D array with a single row if you intend to specify the same RGB or RGBA value for all points.\n"
          ],
          "name": "stderr"
        },
        {
          "output_type": "display_data",
          "data": {
            "image/png": "[encoded data removed]",
            "text/plain": [
              "<Figure size 432x288 with 1 Axes>"
            ]
          },
          "metadata": {
            "tags": [],
            "needs_background": "light"
          }
        },
        {
          "output_type": "stream",
          "text": [
            "*c* argument looks like a single numeric RGB or RGBA sequence, which should be avoided as value-mapping will have precedence in case its length matches with *x* & *y*.  Please use the *color* keyword-argument or provide a 2-D array with a single row if you intend to specify the same RGB or RGBA value for all points.\n"
          ],
          "name": "stderr"
        },
        {
          "output_type": "display_data",
          "data": {
            "image/png": "[encoded data removed]",
            "text/plain": [
              "<Figure size 432x288 with 1 Axes>"
            ]
          },
          "metadata": {
            "tags": [],
            "needs_background": "light"
          }
        }
      ]
    },
    {
      "cell_type": "markdown",
      "metadata": {
        "id": "3mkKhovODxZW",
        "colab_type": "text"
      },
      "source": [
        "*visualizing test set result*"
      ]
    },
    {
      "cell_type": "code",
      "metadata": {
        "id": "xHcVGnhBEYaR",
        "colab_type": "code",
        "colab": {
          "base_uri": "https://localhost:8080/",
          "height": 442
        },
        "outputId": "938677db-fcaa-4227-c953-220e2d8d0ac2"
      },
      "source": [
        "#from matplotlib.colors import ListedColormap\n",
        "X2_set, Y2_set = X_test,Y_test\n",
        "X11, X22 = np.meshgrid(np.arange(start = X2_set[:, 0].min() - 1, stop = X2_set[:, 0].max() + 1, step = 0.01),\n",
        "                     np.arange(start = X2_set[:, 1].min() - 1, stop = X2_set[:, 1].max() + 1, step = 0.01))\n",
        "print(X11,X22)"
      ],
      "execution_count": 23,
      "outputs": [
        {
          "output_type": "stream",
          "text": [
            "[[-2.60035469 -2.59035469 -2.58035469 ...  3.05964531  3.06964531\n",
            "   3.07964531]\n",
            " [-2.60035469 -2.59035469 -2.58035469 ...  3.05964531  3.06964531\n",
            "   3.07964531]\n",
            " [-2.60035469 -2.59035469 -2.58035469 ...  3.05964531  3.06964531\n",
            "   3.07964531]\n",
            " ...\n",
            " [-2.60035469 -2.59035469 -2.58035469 ...  3.05964531  3.06964531\n",
            "   3.07964531]\n",
            " [-2.60035469 -2.59035469 -2.58035469 ...  3.05964531  3.06964531\n",
            "   3.07964531]\n",
            " [-2.60035469 -2.59035469 -2.58035469 ...  3.05964531  3.06964531\n",
            "   3.07964531]] [[-2.68843113 -2.68843113 -2.68843113 ... -2.68843113 -2.68843113\n",
            "  -2.68843113]\n",
            " [-2.67843113 -2.67843113 -2.67843113 ... -2.67843113 -2.67843113\n",
            "  -2.67843113]\n",
            " [-2.66843113 -2.66843113 -2.66843113 ... -2.66843113 -2.66843113\n",
            "  -2.66843113]\n",
            " ...\n",
            " [ 3.41156887  3.41156887  3.41156887 ...  3.41156887  3.41156887\n",
            "   3.41156887]\n",
            " [ 3.42156887  3.42156887  3.42156887 ...  3.42156887  3.42156887\n",
            "   3.42156887]\n",
            " [ 3.43156887  3.43156887  3.43156887 ...  3.43156887  3.43156887\n",
            "   3.43156887]]\n"
          ],
          "name": "stdout"
        }
      ]
    },
    {
      "cell_type": "code",
      "metadata": {
        "id": "IfZfS2nsEywp",
        "colab_type": "code",
        "colab": {
          "base_uri": "https://localhost:8080/",
          "height": 627
        },
        "outputId": "86528f35-a02d-4a88-88e9-17021d4a86df"
      },
      "source": [
        "plt.contourf(X11,X22, classifier.predict(np.array([X11.ravel(), X22.ravel()]).T).reshape(X11.shape),alpha =0.75, cmap = ListedColormap(('red','green')))\n",
        "plt.xlim(X11.min(), X11.max())\n",
        "plt.ylim(X22.min(),X22.max())\n",
        "for i,j in enumerate(np.unique(Y2_set)):\n",
        "  plt.scatter(X2_set[Y2_set == j,0], X2_set[Y2_set == j,1], c= ListedColormap(('red','green'))(i),label=j)\n",
        "  plt.title('Logistic Regression (Testing) ')\n",
        "  plt.xlabel('Age')\n",
        "  plt.ylabel('Estimated Salary')\n",
        "  plt.legend()\n",
        "  plt.show()"
      ],
      "execution_count": 24,
      "outputs": [
        {
          "output_type": "stream",
          "text": [
            "*c* argument looks like a single numeric RGB or RGBA sequence, which should be avoided as value-mapping will have precedence in case its length matches with *x* & *y*.  Please use the *color* keyword-argument or provide a 2-D array with a single row if you intend to specify the same RGB or RGBA value for all points.\n"
          ],
          "name": "stderr"
        },
        {
          "output_type": "display_data",
          "data": {
            "image/png": "[encoded data removed]",
            "text/plain": [
              "<Figure size 432x288 with 1 Axes>"
            ]
          },
          "metadata": {
            "tags": [],
            "needs_background": "light"
          }
        },
        {
          "output_type": "stream",
          "text": [
            "*c* argument looks like a single numeric RGB or RGBA sequence, which should be avoided as value-mapping will have precedence in case its length matches with *x* & *y*.  Please use the *color* keyword-argument or provide a 2-D array with a single row if you intend to specify the same RGB or RGBA value for all points.\n"
          ],
          "name": "stderr"
        },
        {
          "output_type": "display_data",
          "data": {
            "image/png": "[encoded data removed]",
            "text/plain": [
              "<Figure size 432x288 with 1 Axes>"
            ]
          },
          "metadata": {
            "tags": [],
            "needs_background": "light"
          }
        }
      ]
    },
    {
      "cell_type": "code",
      "metadata": {
        "id": "84GieA9pFGv_",
        "colab_type": "code",
        "colab": {}
      },
      "source": [
        ""
      ],
      "execution_count": null,
      "outputs": []
    }
  ]
}